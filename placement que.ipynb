{
 "cells": [
  {
   "cell_type": "code",
   "execution_count": null,
   "id": "cf3e4c78",
   "metadata": {},
   "outputs": [],
   "source": [
    "#1 #How do we create numerical variables in python?"
   ]
  },
  {
   "cell_type": "code",
   "execution_count": 3,
   "id": "8786bf09",
   "metadata": {},
   "outputs": [
    {
     "data": {
      "text/plain": [
       "int"
      ]
     },
     "execution_count": 3,
     "metadata": {},
     "output_type": "execute_result"
    }
   ],
   "source": [
    "d=5\n",
    "type(d)"
   ]
  },
  {
   "cell_type": "code",
   "execution_count": null,
   "id": "c62ffa19",
   "metadata": {},
   "outputs": [],
   "source": [
    "#2  #How do we perform calculations in python?"
   ]
  },
  {
   "cell_type": "code",
   "execution_count": 5,
   "id": "340ac85b",
   "metadata": {},
   "outputs": [],
   "source": [
    "#radius = diameter / 2\n",
    "#area = pi * radius * radius\n",
    "def radius(d):\n",
    "    radius=d/2\n",
    "    return radius"
   ]
  },
  {
   "cell_type": "code",
   "execution_count": 6,
   "id": "8f08d5f2",
   "metadata": {},
   "outputs": [
    {
     "data": {
      "text/plain": [
       "5.0"
      ]
     },
     "execution_count": 6,
     "metadata": {},
     "output_type": "execute_result"
    }
   ],
   "source": [
    "radius(10)"
   ]
  },
  {
   "cell_type": "code",
   "execution_count": 7,
   "id": "97355cd6",
   "metadata": {},
   "outputs": [],
   "source": [
    "def area(pi,radius):\n",
    "    area=pi*radius*radius\n",
    "    return area"
   ]
  },
  {
   "cell_type": "code",
   "execution_count": 8,
   "id": "fe193008",
   "metadata": {},
   "outputs": [
    {
     "data": {
      "text/plain": [
       "1384.74"
      ]
     },
     "execution_count": 8,
     "metadata": {},
     "output_type": "execute_result"
    }
   ],
   "source": [
    "area(3.14,21)"
   ]
  },
  {
   "cell_type": "code",
   "execution_count": null,
   "id": "b12f44b5",
   "metadata": {},
   "outputs": [],
   "source": [
    "#3  #Give an example of BODMAS in python?"
   ]
  },
  {
   "cell_type": "code",
   "execution_count": 17,
   "id": "37488c17",
   "metadata": {},
   "outputs": [
    {
     "name": "stdout",
     "output_type": "stream",
     "text": [
      "33\n"
     ]
    }
   ],
   "source": [
    "a=(8+9)+(3-1)*8\n",
    "print(a)"
   ]
  },
  {
   "cell_type": "code",
   "execution_count": null,
   "id": "52e7f6c4",
   "metadata": {},
   "outputs": [],
   "source": [
    "#4  #Give examples of list?"
   ]
  },
  {
   "cell_type": "code",
   "execution_count": 24,
   "id": "d36ef403",
   "metadata": {},
   "outputs": [],
   "source": [
    "l=[1,2,3,4,5,6,7,(7,8,9)]"
   ]
  },
  {
   "cell_type": "code",
   "execution_count": 25,
   "id": "d91a9be9",
   "metadata": {},
   "outputs": [
    {
     "data": {
      "text/plain": [
       "8"
      ]
     },
     "execution_count": 25,
     "metadata": {},
     "output_type": "execute_result"
    }
   ],
   "source": [
    "len(l)"
   ]
  },
  {
   "cell_type": "code",
   "execution_count": null,
   "id": "2cda9b91",
   "metadata": {},
   "outputs": [],
   "source": [
    "#5. How do we interchange the values of two lists?"
   ]
  },
  {
   "cell_type": "code",
   "execution_count": 30,
   "id": "b1eecc11",
   "metadata": {},
   "outputs": [
    {
     "name": "stdout",
     "output_type": "stream",
     "text": [
      "23456\n",
      "9879\n"
     ]
    }
   ],
   "source": [
    "a=[int(i) for i in input()]\n",
    "b=[int(i) for i in input()]\n"
   ]
  },
  {
   "cell_type": "code",
   "execution_count": 31,
   "id": "809cb893",
   "metadata": {},
   "outputs": [
    {
     "data": {
      "text/plain": [
       "[2, 3, 4, 5, 6]"
      ]
     },
     "execution_count": 31,
     "metadata": {},
     "output_type": "execute_result"
    }
   ],
   "source": [
    "a"
   ]
  },
  {
   "cell_type": "code",
   "execution_count": 32,
   "id": "85ffc7e8",
   "metadata": {},
   "outputs": [
    {
     "data": {
      "text/plain": [
       "[9, 8, 7, 9]"
      ]
     },
     "execution_count": 32,
     "metadata": {},
     "output_type": "execute_result"
    }
   ],
   "source": [
    "b"
   ]
  },
  {
   "cell_type": "code",
   "execution_count": 33,
   "id": "825a3cc5",
   "metadata": {},
   "outputs": [],
   "source": [
    "a,b=b,a"
   ]
  },
  {
   "cell_type": "code",
   "execution_count": 34,
   "id": "ae3b9205",
   "metadata": {},
   "outputs": [
    {
     "data": {
      "text/plain": [
       "[9, 8, 7, 9]"
      ]
     },
     "execution_count": 34,
     "metadata": {},
     "output_type": "execute_result"
    }
   ],
   "source": [
    "a"
   ]
  },
  {
   "cell_type": "code",
   "execution_count": 35,
   "id": "b7993d57",
   "metadata": {},
   "outputs": [
    {
     "data": {
      "text/plain": [
       "[2, 3, 4, 5, 6]"
      ]
     },
     "execution_count": 35,
     "metadata": {},
     "output_type": "execute_result"
    }
   ],
   "source": [
    "b"
   ]
  },
  {
   "cell_type": "code",
   "execution_count": null,
   "id": "43bc0b56",
   "metadata": {},
   "outputs": [],
   "source": [
    "#6. How do we extract values from list?"
   ]
  },
  {
   "cell_type": "code",
   "execution_count": 37,
   "id": "7ff04f25",
   "metadata": {},
   "outputs": [],
   "source": [
    "a=['apple','orange','banana']"
   ]
  },
  {
   "cell_type": "code",
   "execution_count": 38,
   "id": "a7953d51",
   "metadata": {},
   "outputs": [
    {
     "data": {
      "text/plain": [
       "'apple'"
      ]
     },
     "execution_count": 38,
     "metadata": {},
     "output_type": "execute_result"
    }
   ],
   "source": [
    "a[0]"
   ]
  },
  {
   "cell_type": "code",
   "execution_count": null,
   "id": "c1e6f98c",
   "metadata": {},
   "outputs": [],
   "source": [
    "#7. How we create loops in python using list?"
   ]
  },
  {
   "cell_type": "code",
   "execution_count": 39,
   "id": "bead2542",
   "metadata": {},
   "outputs": [],
   "source": [
    "l=['SASi','prathe','mani']"
   ]
  },
  {
   "cell_type": "code",
   "execution_count": 41,
   "id": "cdd1e8bc",
   "metadata": {},
   "outputs": [
    {
     "name": "stdout",
     "output_type": "stream",
     "text": [
      "prathe\n"
     ]
    }
   ],
   "source": [
    "for i in l:\n",
    "    if i=='prathe':\n",
    "         print(i)"
   ]
  },
  {
   "cell_type": "code",
   "execution_count": null,
   "id": "1305bd76",
   "metadata": {},
   "outputs": [],
   "source": [
    "#8. Give examples of String?"
   ]
  },
  {
   "cell_type": "code",
   "execution_count": 43,
   "id": "7d80f114",
   "metadata": {},
   "outputs": [
    {
     "name": "stdout",
     "output_type": "stream",
     "text": [
      "enter the stringsasi\n",
      "sasi\n"
     ]
    }
   ],
   "source": [
    "h=input('enter the string')\n",
    "print(h)"
   ]
  },
  {
   "cell_type": "code",
   "execution_count": null,
   "id": "4752ac83",
   "metadata": {},
   "outputs": [],
   "source": [
    "#9. Give an example of Boolean?"
   ]
  },
  {
   "cell_type": "code",
   "execution_count": 44,
   "id": "afb6ecfe",
   "metadata": {},
   "outputs": [
    {
     "data": {
      "text/plain": [
       "True"
      ]
     },
     "execution_count": 44,
     "metadata": {},
     "output_type": "execute_result"
    }
   ],
   "source": [
    "1!=2"
   ]
  },
  {
   "cell_type": "code",
   "execution_count": null,
   "id": "dc806d32",
   "metadata": {},
   "outputs": [],
   "source": [
    "#10. How do we perform operations on Boolean?"
   ]
  },
  {
   "cell_type": "code",
   "execution_count": 45,
   "id": "1329b8c5",
   "metadata": {},
   "outputs": [
    {
     "name": "stdout",
     "output_type": "stream",
     "text": [
      "True\n",
      "True\n"
     ]
    }
   ],
   "source": [
    "x = \"Hello\"\n",
    "y = 15\n",
    "\n",
    "print(bool(x))\n",
    "print(bool(y))"
   ]
  },
  {
   "cell_type": "code",
   "execution_count": 50,
   "id": "9c3a57f3",
   "metadata": {},
   "outputs": [
    {
     "name": "stdout",
     "output_type": "stream",
     "text": [
      "YES!\n"
     ]
    }
   ],
   "source": [
    "def myFunction() :\n",
    "     return True\n",
    "\n",
    "if myFunction():\n",
    "  print(\"YES!\")\n",
    "else:\n",
    "  print(\"NO!\")"
   ]
  },
  {
   "cell_type": "code",
   "execution_count": null,
   "id": "800d66bc",
   "metadata": {},
   "outputs": [],
   "source": [
    "#11  What are function in python?"
   ]
  },
  {
   "cell_type": "code",
   "execution_count": 1,
   "id": "8e0614b4",
   "metadata": {},
   "outputs": [],
   "source": [
    "def add(a,b):\n",
    "    add=a+b\n",
    "    return add"
   ]
  },
  {
   "cell_type": "code",
   "execution_count": 2,
   "id": "683352e3",
   "metadata": {},
   "outputs": [
    {
     "data": {
      "text/plain": [
       "3"
      ]
     },
     "execution_count": 2,
     "metadata": {},
     "output_type": "execute_result"
    }
   ],
   "source": [
    "add(1,2)"
   ]
  },
  {
   "cell_type": "code",
   "execution_count": null,
   "id": "83581eb0",
   "metadata": {},
   "outputs": [],
   "source": [
    "#12. Calculating remainder in python?"
   ]
  },
  {
   "cell_type": "code",
   "execution_count": 3,
   "id": "6aa7f08f",
   "metadata": {},
   "outputs": [],
   "source": [
    "def dev(a,d):\n",
    "    dev=a%d\n",
    "    return dev"
   ]
  },
  {
   "cell_type": "code",
   "execution_count": 5,
   "id": "55cacf05",
   "metadata": {},
   "outputs": [
    {
     "data": {
      "text/plain": [
       "2"
      ]
     },
     "execution_count": 5,
     "metadata": {},
     "output_type": "execute_result"
    }
   ],
   "source": [
    "dev(2,4)"
   ]
  },
  {
   "cell_type": "code",
   "execution_count": null,
   "id": "6c570c6e",
   "metadata": {},
   "outputs": [],
   "source": [
    "#13. Who created python?"
   ]
  },
  {
   "cell_type": "code",
   "execution_count": null,
   "id": "469cdacd",
   "metadata": {},
   "outputs": [],
   "source": [
    "#guido van rossum"
   ]
  },
  {
   "cell_type": "code",
   "execution_count": null,
   "id": "28e48d7c",
   "metadata": {},
   "outputs": [],
   "source": [
    "#14. When was python created?"
   ]
  },
  {
   "cell_type": "code",
   "execution_count": null,
   "id": "40d66636",
   "metadata": {},
   "outputs": [],
   "source": [
    "#Python was conceived in the late 1980s as a successor to the ABC language\n",
    "#The first version was releases in 1991\n",
    "#Python 2.0 was released in 2000\n",
    "#Python 3.0 was released in 2008"
   ]
  },
  {
   "cell_type": "code",
   "execution_count": null,
   "id": "6b6f6ad4",
   "metadata": {},
   "outputs": [],
   "source": [
    "#15. What are the built-in type does python provides?"
   ]
  },
  {
   "cell_type": "code",
   "execution_count": null,
   "id": "6684ef05",
   "metadata": {},
   "outputs": [],
   "source": [
    "#lists,tuples,dictionaries,sets,numbers,strings"
   ]
  },
  {
   "cell_type": "code",
   "execution_count": 1,
   "id": "dca11f0c",
   "metadata": {},
   "outputs": [],
   "source": [
    "#16. What is lambda in Python?"
   ]
  },
  {
   "cell_type": "code",
   "execution_count": 3,
   "id": "4148c02c",
   "metadata": {},
   "outputs": [],
   "source": [
    "#it is used to avoid looops\n",
    "a=5\n",
    "b=lambda a:a+5"
   ]
  },
  {
   "cell_type": "code",
   "execution_count": 5,
   "id": "6a0c6b53",
   "metadata": {},
   "outputs": [
    {
     "data": {
      "text/plain": [
       "13"
      ]
     },
     "execution_count": 5,
     "metadata": {},
     "output_type": "execute_result"
    }
   ],
   "source": [
    "b(8)"
   ]
  },
  {
   "cell_type": "code",
   "execution_count": null,
   "id": "ea80d10c",
   "metadata": {},
   "outputs": [],
   "source": [
    "#17. What is pass in Python?"
   ]
  },
  {
   "cell_type": "code",
   "execution_count": null,
   "id": "0160e4d6",
   "metadata": {},
   "outputs": [],
   "source": [
    "#Pass means, no-operation Python statement."
   ]
  },
  {
   "cell_type": "code",
   "execution_count": null,
   "id": "b7cdc51a",
   "metadata": {},
   "outputs": [],
   "source": [
    "#18. What is slicing?"
   ]
  },
  {
   "cell_type": "code",
   "execution_count": 10,
   "id": "cc40cfc4",
   "metadata": {},
   "outputs": [],
   "source": [
    "x=[1, 2, 3, 4, 5]\n"
   ]
  },
  {
   "cell_type": "code",
   "execution_count": 11,
   "id": "75e8dd34",
   "metadata": {},
   "outputs": [
    {
     "data": {
      "text/plain": [
       "[1, 2]"
      ]
     },
     "execution_count": 11,
     "metadata": {},
     "output_type": "execute_result"
    }
   ],
   "source": [
    "x[0:2]"
   ]
  },
  {
   "cell_type": "code",
   "execution_count": 12,
   "id": "22975359",
   "metadata": {},
   "outputs": [
    {
     "data": {
      "text/plain": [
       "1"
      ]
     },
     "execution_count": 12,
     "metadata": {},
     "output_type": "execute_result"
    }
   ],
   "source": [
    "x[0]"
   ]
  },
  {
   "cell_type": "code",
   "execution_count": null,
   "id": "d7615595",
   "metadata": {},
   "outputs": [],
   "source": [
    "#19 What is negative index in Python?"
   ]
  },
  {
   "cell_type": "code",
   "execution_count": null,
   "id": "23c44a6e",
   "metadata": {},
   "outputs": [],
   "source": [
    "#For negative index, (-1) is the last index and (-2) is the second last index and so forth."
   ]
  },
  {
   "cell_type": "code",
   "execution_count": null,
   "id": "2da7fbd5",
   "metadata": {},
   "outputs": [],
   "source": []
  },
  {
   "cell_type": "code",
   "execution_count": null,
   "id": "c80a462c",
   "metadata": {},
   "outputs": [],
   "source": [
    "20. How you can convert a number to a string?"
   ]
  },
  {
   "cell_type": "code",
   "execution_count": 14,
   "id": "ac1ed1b6",
   "metadata": {},
   "outputs": [
    {
     "data": {
      "text/plain": [
       "'0o27'"
      ]
     },
     "execution_count": 14,
     "metadata": {},
     "output_type": "execute_result"
    }
   ],
   "source": [
    "oct(23) "
   ]
  },
  {
   "cell_type": "code",
   "execution_count": 16,
   "id": "aa2256d4",
   "metadata": {},
   "outputs": [
    {
     "data": {
      "text/plain": [
       "'0xf'"
      ]
     },
     "execution_count": 16,
     "metadata": {},
     "output_type": "execute_result"
    }
   ],
   "source": [
    "hex(15)"
   ]
  },
  {
   "cell_type": "code",
   "execution_count": null,
   "id": "424ffadb",
   "metadata": {},
   "outputs": [],
   "source": [
    "#21. What is range function?"
   ]
  },
  {
   "cell_type": "code",
   "execution_count": 23,
   "id": "bb9cd89d",
   "metadata": {},
   "outputs": [
    {
     "name": "stdout",
     "output_type": "stream",
     "text": [
      "1 2 3 4 5 6 7 8 9 10 11 12 13 14 15 16 17 18 19 20 21 22 23 24 25 26 27 28 29 30 31 32 33 34 35 36 37 38 39 40 41 42 43 44 45 46 47 48 49 50 51 52 53 54 55 56 57 58 59 60 61 62 63 64 65 66 67 68 69 70 71 72 73 74 75 76 77 78 79 80 81 82 83 84 85 86 87 88 89 90 91 92 93 94 95 96 97 98 99 "
     ]
    }
   ],
   "source": [
    "for i in range(1,100):\n",
    "    print(i,end=\" \")"
   ]
  },
  {
   "cell_type": "code",
   "execution_count": null,
   "id": "1bd35d5a",
   "metadata": {},
   "outputs": [],
   "source": [
    "#22. How do you generate random numbers in Python?"
   ]
  },
  {
   "cell_type": "code",
   "execution_count": 2,
   "id": "ca90884d",
   "metadata": {},
   "outputs": [],
   "source": [
    "import random"
   ]
  },
  {
   "cell_type": "code",
   "execution_count": 8,
   "id": "f6e3e4db",
   "metadata": {},
   "outputs": [
    {
     "data": {
      "text/plain": [
       "9"
      ]
     },
     "execution_count": 8,
     "metadata": {},
     "output_type": "execute_result"
    }
   ],
   "source": [
    "random.randint(0,10)"
   ]
  },
  {
   "cell_type": "code",
   "execution_count": 12,
   "id": "95c201d4",
   "metadata": {},
   "outputs": [
    {
     "name": "stdout",
     "output_type": "stream",
     "text": [
      "[6, 23, 11, 25, 8]\n"
     ]
    }
   ],
   "source": [
    "import random\n",
    "randomlist = []\n",
    "for i in range(0,5):\n",
    "    n = random.randint(1,30)\n",
    "    randomlist.append(n)\n",
    "print(randomlist)"
   ]
  },
  {
   "cell_type": "code",
   "execution_count": null,
   "id": "f484a55b",
   "metadata": {},
   "outputs": [],
   "source": [
    "#23. What is the difference between / and // operator in Python?"
   ]
  },
  {
   "cell_type": "code",
   "execution_count": 17,
   "id": "cb035bc0",
   "metadata": {},
   "outputs": [],
   "source": [
    "a=2"
   ]
  },
  {
   "cell_type": "code",
   "execution_count": 18,
   "id": "860e6850",
   "metadata": {},
   "outputs": [],
   "source": [
    "b=4"
   ]
  },
  {
   "cell_type": "code",
   "execution_count": 19,
   "id": "271de66d",
   "metadata": {},
   "outputs": [
    {
     "data": {
      "text/plain": [
       "0.5"
      ]
     },
     "execution_count": 19,
     "metadata": {},
     "output_type": "execute_result"
    }
   ],
   "source": [
    "a/b"
   ]
  },
  {
   "cell_type": "code",
   "execution_count": 20,
   "id": "864be20e",
   "metadata": {},
   "outputs": [
    {
     "data": {
      "text/plain": [
       "0"
      ]
     },
     "execution_count": 20,
     "metadata": {},
     "output_type": "execute_result"
    }
   ],
   "source": [
    "a//b"
   ]
  },
  {
   "cell_type": "code",
   "execution_count": null,
   "id": "f99125a4",
   "metadata": {},
   "outputs": [],
   "source": [
    "# 24.What is the use of the split function in Python?"
   ]
  },
  {
   "cell_type": "code",
   "execution_count": 26,
   "id": "663e35ee",
   "metadata": {},
   "outputs": [
    {
     "name": "stdout",
     "output_type": "stream",
     "text": [
      "1 2 3 4\n"
     ]
    }
   ],
   "source": [
    "a=[int(i) for i in input().split()]"
   ]
  },
  {
   "cell_type": "code",
   "execution_count": 27,
   "id": "a2644cad",
   "metadata": {},
   "outputs": [
    {
     "data": {
      "text/plain": [
       "[1, 2, 3, 4]"
      ]
     },
     "execution_count": 27,
     "metadata": {},
     "output_type": "execute_result"
    }
   ],
   "source": [
    "a"
   ]
  },
  {
   "cell_type": "code",
   "execution_count": null,
   "id": "37619336",
   "metadata": {},
   "outputs": [],
   "source": [
    "#25. What is the difference between a list and a tuple?"
   ]
  },
  {
   "cell_type": "code",
   "execution_count": null,
   "id": "84999948",
   "metadata": {},
   "outputs": [],
   "source": [
    "#list=list can contain heterogeneous values\n",
    "#list are mutable\n",
    "#in list values can be replaced or deleted\n",
    "#tuple=tuple contains homogeneus data\n",
    "#a tuple is immutable\n",
    "#in tuple values caannot be deleted or replaced"
   ]
  },
  {
   "cell_type": "code",
   "execution_count": null,
   "id": "85a6486e",
   "metadata": {},
   "outputs": [],
   "source": [
    "#26. What is the difference between an array and a list?"
   ]
  },
  {
   "cell_type": "code",
   "execution_count": null,
   "id": "67de26b1",
   "metadata": {},
   "outputs": [],
   "source": [
    "#list=list can contain heterogeneous values\n",
    "#list are mutable\n",
    "#in list values can be replaced or deleted\n",
    "#an array can store only homogeneous data\n",
    "#they are specially created from arithmetic opertions.\n",
    "#they must be imported using libraries"
   ]
  },
  {
   "cell_type": "code",
   "execution_count": null,
   "id": "6bf292ca",
   "metadata": {},
   "outputs": [],
   "source": [
    "#27. How would you convert a list to an array?"
   ]
  },
  {
   "cell_type": "code",
   "execution_count": 1,
   "id": "780e0a2e",
   "metadata": {},
   "outputs": [],
   "source": [
    "import numpy as np"
   ]
  },
  {
   "cell_type": "code",
   "execution_count": 3,
   "id": "899b7446",
   "metadata": {},
   "outputs": [],
   "source": [
    "a=[1,2,3,4,5]"
   ]
  },
  {
   "cell_type": "code",
   "execution_count": 4,
   "id": "598fb1d7",
   "metadata": {},
   "outputs": [
    {
     "data": {
      "text/plain": [
       "array([1, 2, 3, 4, 5])"
      ]
     },
     "execution_count": 4,
     "metadata": {},
     "output_type": "execute_result"
    }
   ],
   "source": [
    "np.array(a)"
   ]
  },
  {
   "cell_type": "code",
   "execution_count": null,
   "id": "1c8f2f00",
   "metadata": {},
   "outputs": [],
   "source": [
    "#28. What are the advantages of NumPy arrays over Python lists?"
   ]
  },
  {
   "cell_type": "code",
   "execution_count": null,
   "id": "805f1ec0",
   "metadata": {},
   "outputs": [],
   "source": [
    "#You get a lot of vector and matrix operations, which sometimes allow one to avoid unnecessary work."
   ]
  },
  {
   "cell_type": "code",
   "execution_count": null,
   "id": "9f60d464",
   "metadata": {},
   "outputs": [],
   "source": [
    "#You get a lot built in functions with NumPy for fast searching, basic statistics, linear algebra, histograms"
   ]
  },
  {
   "cell_type": "code",
   "execution_count": null,
   "id": "a11cc482",
   "metadata": {},
   "outputs": [],
   "source": [
    "#29. What are global and local variables in Python?\n"
   ]
  },
  {
   "cell_type": "code",
   "execution_count": null,
   "id": "3c6899e2",
   "metadata": {},
   "outputs": [],
   "source": [
    "#global variables are the variables which can be used in both inside and outside the function."
   ]
  },
  {
   "cell_type": "code",
   "execution_count": null,
   "id": "4f216198",
   "metadata": {},
   "outputs": [],
   "source": [
    "#any variable declared inside the function is called as local variable."
   ]
  },
  {
   "cell_type": "code",
   "execution_count": null,
   "id": "2c4c5c32",
   "metadata": {},
   "outputs": [],
   "source": [
    "#30. Explain the differences between Python 2 and Python 3?"
   ]
  },
  {
   "cell_type": "code",
   "execution_count": null,
   "id": "17407137",
   "metadata": {},
   "outputs": [],
   "source": [
    "#python2 the output will not be in decimal."
   ]
  },
  {
   "cell_type": "code",
   "execution_count": null,
   "id": "e0876d8b",
   "metadata": {},
   "outputs": [],
   "source": [
    "#python3 the given input is taken as string by default."
   ]
  },
  {
   "cell_type": "code",
   "execution_count": null,
   "id": "3178d699",
   "metadata": {},
   "outputs": [],
   "source": [
    "#31. What is dictionary comprehension in Python?"
   ]
  },
  {
   "cell_type": "code",
   "execution_count": 18,
   "id": "8a1b1f14",
   "metadata": {},
   "outputs": [],
   "source": [
    "cars=['m&m','tata','audii']"
   ]
  },
  {
   "cell_type": "code",
   "execution_count": 17,
   "id": "cb55f665",
   "metadata": {},
   "outputs": [],
   "source": [
    "values=[1,2,3,4]"
   ]
  },
  {
   "cell_type": "code",
   "execution_count": 19,
   "id": "3507ec38",
   "metadata": {},
   "outputs": [],
   "source": [
    "dict_names={i:j for (i,j) in zip (cars,values)}"
   ]
  },
  {
   "cell_type": "code",
   "execution_count": 20,
   "id": "8234386a",
   "metadata": {},
   "outputs": [
    {
     "data": {
      "text/plain": [
       "{'m&m': 1, 'tata': 2, 'audii': 3}"
      ]
     },
     "execution_count": 20,
     "metadata": {},
     "output_type": "execute_result"
    }
   ],
   "source": [
    "dict_names"
   ]
  },
  {
   "cell_type": "code",
   "execution_count": null,
   "id": "78a4abaa",
   "metadata": {},
   "outputs": [],
   "source": [
    "#32. How would you sort a dictionary in Python?"
   ]
  },
  {
   "cell_type": "code",
   "execution_count": 24,
   "id": "c4019556",
   "metadata": {},
   "outputs": [],
   "source": [
    "a={1:2,3:4,5:6,7:8}"
   ]
  },
  {
   "cell_type": "code",
   "execution_count": 25,
   "id": "bd8c7915",
   "metadata": {},
   "outputs": [],
   "source": [
    "import operator"
   ]
  },
  {
   "cell_type": "code",
   "execution_count": 26,
   "id": "08a34b6c",
   "metadata": {},
   "outputs": [],
   "source": [
    "sort=sorted(a.items(),key=operator.itemgetter(0))"
   ]
  },
  {
   "cell_type": "code",
   "execution_count": 27,
   "id": "2f6dc340",
   "metadata": {},
   "outputs": [
    {
     "data": {
      "text/plain": [
       "[(1, 2), (3, 4), (5, 6), (7, 8)]"
      ]
     },
     "execution_count": 27,
     "metadata": {},
     "output_type": "execute_result"
    }
   ],
   "source": [
    "sort"
   ]
  },
  {
   "cell_type": "code",
   "execution_count": 28,
   "id": "1f9c2fa4",
   "metadata": {},
   "outputs": [],
   "source": [
    "sort_ed=sorted(a.items(),key=operator.itemgetter(1))"
   ]
  },
  {
   "cell_type": "code",
   "execution_count": 29,
   "id": "ad821d5c",
   "metadata": {},
   "outputs": [
    {
     "data": {
      "text/plain": [
       "[(1, 2), (3, 4), (5, 6), (7, 8)]"
      ]
     },
     "execution_count": 29,
     "metadata": {},
     "output_type": "execute_result"
    }
   ],
   "source": [
    "sort_ed"
   ]
  },
  {
   "cell_type": "code",
   "execution_count": null,
   "id": "a6199455",
   "metadata": {},
   "outputs": [],
   "source": [
    "#33. How do you reverse a string in Python?"
   ]
  },
  {
   "cell_type": "code",
   "execution_count": 21,
   "id": "18dc679d",
   "metadata": {},
   "outputs": [],
   "source": [
    "a=[1,2,3,4,5]"
   ]
  },
  {
   "cell_type": "code",
   "execution_count": 22,
   "id": "8d833e44",
   "metadata": {},
   "outputs": [],
   "source": [
    "b=a[::-1]"
   ]
  },
  {
   "cell_type": "code",
   "execution_count": 23,
   "id": "f0c7ef9a",
   "metadata": {},
   "outputs": [
    {
     "data": {
      "text/plain": [
       "[5, 4, 3, 2, 1]"
      ]
     },
     "execution_count": 23,
     "metadata": {},
     "output_type": "execute_result"
    }
   ],
   "source": [
    "b"
   ]
  },
  {
   "cell_type": "code",
   "execution_count": null,
   "id": "e1526396",
   "metadata": {},
   "outputs": [],
   "source": [
    "#34. How do you check if a Python string contains another string?"
   ]
  },
  {
   "cell_type": "code",
   "execution_count": 34,
   "id": "689319fe",
   "metadata": {},
   "outputs": [],
   "source": [
    "def substring(a,b):\n",
    "    for i in a:\n",
    "        if i in b:\n",
    "            print('present')\n",
    "        if i not in b:\n",
    "            print(\"not present\")\n",
    "        break"
   ]
  },
  {
   "cell_type": "code",
   "execution_count": 35,
   "id": "9bb48162",
   "metadata": {},
   "outputs": [
    {
     "name": "stdout",
     "output_type": "stream",
     "text": [
      "present\n"
     ]
    }
   ],
   "source": [
    "substring('greetings','gs')"
   ]
  },
  {
   "cell_type": "code",
   "execution_count": 38,
   "id": "6303e562",
   "metadata": {},
   "outputs": [
    {
     "name": "stdout",
     "output_type": "stream",
     "text": [
      "not present\n"
     ]
    }
   ],
   "source": [
    "substring('hello hi','bye')"
   ]
  },
  {
   "cell_type": "code",
   "execution_count": null,
   "id": "b8b29524",
   "metadata": {},
   "outputs": [],
   "source": []
  },
  {
   "cell_type": "code",
   "execution_count": null,
   "id": "95ea4ecb",
   "metadata": {},
   "outputs": [],
   "source": []
  },
  {
   "cell_type": "code",
   "execution_count": null,
   "id": "111fabfb",
   "metadata": {},
   "outputs": [],
   "source": []
  },
  {
   "cell_type": "code",
   "execution_count": null,
   "id": "746a9bb8",
   "metadata": {},
   "outputs": [],
   "source": []
  },
  {
   "cell_type": "code",
   "execution_count": null,
   "id": "17f6c37f",
   "metadata": {},
   "outputs": [],
   "source": []
  },
  {
   "cell_type": "code",
   "execution_count": null,
   "id": "b86facc1",
   "metadata": {},
   "outputs": [],
   "source": []
  },
  {
   "cell_type": "code",
   "execution_count": null,
   "id": "f131e642",
   "metadata": {},
   "outputs": [],
   "source": []
  },
  {
   "cell_type": "code",
   "execution_count": null,
   "id": "edecb3cb",
   "metadata": {},
   "outputs": [],
   "source": []
  },
  {
   "cell_type": "code",
   "execution_count": null,
   "id": "1699409e",
   "metadata": {},
   "outputs": [],
   "source": []
  },
  {
   "cell_type": "code",
   "execution_count": null,
   "id": "6441fe35",
   "metadata": {},
   "outputs": [],
   "source": []
  }
 ],
 "metadata": {
  "kernelspec": {
   "display_name": "Python 3",
   "language": "python",
   "name": "python3"
  },
  "language_info": {
   "codemirror_mode": {
    "name": "ipython",
    "version": 3
   },
   "file_extension": ".py",
   "mimetype": "text/x-python",
   "name": "python",
   "nbconvert_exporter": "python",
   "pygments_lexer": "ipython3",
   "version": "3.8.8"
  }
 },
 "nbformat": 4,
 "nbformat_minor": 5
}
